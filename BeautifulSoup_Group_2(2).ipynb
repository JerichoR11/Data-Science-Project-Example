{
 "cells": [
  {
   "cell_type": "code",
   "execution_count": 2,
   "id": "99856ba8-bfe6-4550-a3bd-942e64680ec8",
   "metadata": {},
   "outputs": [
    {
     "name": "stdout",
     "output_type": "stream",
     "text": [
      "<title>Blackboard</title>\n"
     ]
    }
   ],
   "source": [
    "# Write a Python program to find the title tags from a given html document.\n",
    "from bs4 import BeautifulSoup # import BS4 library\n",
    "import requests # import requests library\n",
    "URL = \"https://npowercanada.blackboard.com/ultra/stream\" #get URL\n",
    "page = requests.get(URL) # request the url page\n",
    "soup = BeautifulSoup(page.content, \"html.parser\") # parse the content to html\n",
    "title_tag = soup.find(\"title\") #using the soup.find function to find the <title> tag\n",
    "# for element in title_tag: # this is another way to print the content of the title tag\n",
    "#     print(element.text)\n",
    "print(title_tag)"
   ]
  },
  {
   "cell_type": "code",
   "execution_count": 3,
   "id": "9377b31e-96ee-44fc-abd5-e086ef07a891",
   "metadata": {},
   "outputs": [
    {
     "data": {
      "text/plain": [
       "9"
      ]
     },
     "execution_count": 3,
     "metadata": {},
     "output_type": "execute_result"
    }
   ],
   "source": [
    "# Write a Python program to get the number of paragraph tags of a given html document.\n",
    "\n",
    "para_tag = soup.find_all(\"p\")# finds all the paragraph tag\n",
    "p_count = len(para_tag) # counts the number of paragraph in the html document\n",
    "p_count"
   ]
  },
  {
   "cell_type": "code",
   "execution_count": 5,
   "id": "7f9baa6e-fb99-42a3-b370-701eaf543feb",
   "metadata": {},
   "outputs": [
    {
     "name": "stdout",
     "output_type": "stream",
     "text": [
      "Download and install any authenticator app (e.g. Microsoft Authenticator, Google Authenticator, or Authy) on your phone.\n"
     ]
    }
   ],
   "source": [
    "# Write a Python program to extract the text in the first paragraph tag of a given html document.\n",
    "para_tag = soup.find_all(\"p\")[0].text# finds the first paragraph tag and extract its content\n",
    "print(title_tag)\n",
    "\n"
   ]
  },
  {
   "cell_type": "code",
   "execution_count": 6,
   "id": "1c3a3559-349a-41dd-b466-726d0b2f65fd",
   "metadata": {},
   "outputs": [
    {
     "name": "stdout",
     "output_type": "stream",
     "text": [
      "<li><a href=\"javascript:loadLocale('en_US');\" lang=\"en_US\">English (United States‭)‬</a></li>\n",
      "<li><a href=\"javascript:loadLocale('fr_CA');\" lang=\"fr_CA\">Français (Canada‭)‬</a></li>\n",
      "<li class=\"clearfix\">\n",
      "<label for=\"user_id\">Username</label>\n",
      "<input autocomplete=\"off\" id=\"user_id\" maxlength=\"50\" name=\"user_id\" size=\"25\" type=\"text\">\n",
      "</input></li>\n",
      "<li class=\"clearfix\">\n",
      "<label for=\"password\">Password</label>\n",
      "<input autocomplete=\"off\" id=\"password\" name=\"password\" size=\"25\" type=\"password\">\n",
      "</input></li>\n",
      "<li class=\"clearfix\">\n",
      "<input class=\"button expand inverse outline\" id=\"entry-login\" name=\"login\" type=\"submit\" value=\"Sign In\"/>\n",
      "</li>\n",
      "<li id=\"help-link\"><a href=\"https://help.blackboard.com/001_000en_US\" target=\"_blank\" title=\"Bb Login Help\">Help</a></li>\n",
      "<li id=\"privacy-link\"><a href=\"#\" onclick=\"showPrivacyPolicy();\" title=\"Privacy and Terms of Use\">Privacy and Terms of Use</a></li>\n",
      "<li id=\"accessibility-link\"><a href=\"https://help.blackboard.com/001_631en_US\" title=\"Accessibility\">Accessibility</a></li>\n"
     ]
    }
   ],
   "source": [
    "# Write a Python program to extract all the URLs from the webpage python.org that are nested within <li> tags from\n",
    "li_tag = soup.find_all(\"li\")#finds all of the <li> tag\n",
    "for element in li_tag:# loops through the lists and prints its childeren and content\n",
    "        print(element)"
   ]
  },
  {
   "cell_type": "code",
   "execution_count": 7,
   "id": "8651c01c-526d-4fcc-b0bd-3acb55c4e525",
   "metadata": {},
   "outputs": [
    {
     "name": "stdout",
     "output_type": "stream",
     "text": [
      "\n",
      "\n",
      "\n",
      "Blackboard\n",
      "\n",
      "\n",
      "\n",
      "\n",
      "\n",
      "\n",
      "\n",
      "\n",
      "\n",
      "\n",
      "\n",
      "\n",
      "\n",
      "\n",
      "\n",
      "\n",
      "\n",
      "\n",
      "\n",
      "\n",
      "\n",
      "\n",
      "\n",
      "\n",
      "\n",
      "\n",
      "\n",
      "\n",
      "\n",
      "\n",
      "\n",
      "\n",
      "\n",
      "\n",
      "\n",
      "\n",
      "\n",
      "\n",
      "English (United States‭)‬\n",
      "Français (Canada‭)‬\n",
      "\n",
      "\n",
      "\n",
      "\n",
      "\n",
      "\n",
      "\n",
      "Blackboard Learn ™\n",
      "\n",
      "\n",
      "\n",
      "\n",
      "Please enable JavaScript in your browser for the Blackboard application to function.\n",
      "\n",
      "\n",
      "\n",
      "\n",
      "\n",
      "\n",
      "Username\n",
      "\n",
      "\n",
      "\n",
      "Password\n",
      "\n",
      "\n",
      "\n",
      "\n",
      "\n",
      "\n",
      "\n",
      "\n",
      "\n",
      "\n",
      "Forgot Password?\n",
      "\n",
      "\n",
      "\n",
      "\n",
      "\n",
      "\n",
      "\n",
      "Multi-Factor Authentication\n",
      "\n",
      "\n",
      "\n",
      "\n",
      "Step 1\n",
      "Download and install any authenticator app (e.g. Microsoft Authenticator, Google Authenticator, or Authy) on your phone.\n",
      "\n",
      "\n",
      "Step 2\n",
      "Open the authenticator app and scan the image below using your phone's camera or copy the key.\n",
      "Open the authenticator app and copy the key below.\n",
      "\n",
      "\n",
      "\n",
      "\n",
      "\n",
      "\n",
      "${mfaSecretKey}\n",
      "\n",
      "Copy key\n",
      "\n",
      "-\n",
      "\n",
      "Key copied\n",
      "\n",
      "\n",
      "\n",
      "\n",
      "\n",
      "\n",
      "\n",
      "Step 3\n",
      "Press next to enter the code and associate it with your account\n",
      "\n",
      "\n",
      "\n",
      "Cancel\n",
      "Next\n",
      "\n",
      "\n",
      "\n",
      "\n",
      "\n",
      "\n",
      "\n",
      "Multi-Factor Authentication\n",
      "\n",
      "\n",
      "\n",
      "Type the Code\n",
      "Type the 6-digit temporary code generated with your authenticator application\n",
      "\n",
      "\n",
      "\n",
      "\n",
      "\n",
      "\n",
      "\n",
      "\n",
      "\n",
      "\n",
      "\n",
      "\n",
      "\n",
      "Back\n",
      "Submit\n",
      "\n",
      "\n",
      "\n",
      "\n",
      "\n",
      "\n",
      "\n",
      "Multi-Factor Authentication\n",
      "\n",
      "\n",
      "\n",
      "\n",
      "You are all set\n",
      "You have enabled multi-factor authentication using your authenticator app.\n",
      "\n",
      "\n",
      "We will now ask for a login code anytime you log in.\n",
      "We will now ask for a login code anytime you log in on a device we don't recognize.\n",
      "\n",
      "\n",
      "\n",
      "\n",
      "Done\n",
      "\n",
      "\n",
      "\n",
      "\n",
      "\n",
      "\n",
      "\n",
      "\n",
      "\n",
      "\n",
      "\n",
      "\n",
      "\n",
      "\n",
      "\n",
      "\n",
      "\n",
      "\n",
      "View Course Catalog\n",
      "\n",
      "\n",
      "\n",
      "\n",
      "\n",
      "  \t\t© 1997-2025 Blackboard Inc. All Rights Reserved.\n",
      "  \t\n",
      "\n",
      "\n",
      "\n",
      "\n",
      "Help\n",
      "Privacy and Terms of Use\n",
      "Accessibility\n",
      "\n",
      "\n",
      "\n",
      "\n",
      "\n",
      "\n",
      "\n",
      "\n",
      "\n",
      "\n",
      "\n",
      "\n",
      "\n"
     ]
    }
   ],
   "source": [
    "# Write a Python program to extract all the text from a given web page.\n",
    "text_content= soup.get_text()# gets all the text content from the given web page\n",
    "print(text_content)"
   ]
  },
  {
   "cell_type": "code",
   "execution_count": null,
   "id": "218d3dcb-0607-4eb3-bf6e-d2eb5e275bb1",
   "metadata": {},
   "outputs": [],
   "source": [
    "# Write a Python program to retrieve the HTML code of the title, its text, and the HTML code of its parent.\n",
    "tag_title = soup.title\n",
    "tag_text = soup.title.text\n",
    "tag_html= soup.title.parent\n",
    "print(f\"The title {tag_title} with the text content: {tag_text} and the HTML code of its parents {tag_html}\")\n",
    "# the code above displays the parent to child hierarchy and its text"
   ]
  },
  {
   "cell_type": "code",
   "execution_count": null,
   "id": "668d6926-9540-4631-90ee-48a8dfa4e299",
   "metadata": {},
   "outputs": [],
   "source": [
    "# Write a Python program to create a Beautiful Soup parse tree into a nicely formatted Unicode string, with a separate line for each HTML/XML tag and string.\n",
    "for descendants in soup.descendants:\n",
    "        print(f\"{descendants}\")\n",
    "soup.prettify()\n",
    "# the code above loops through the parse tree and prints out the formatted html tag and string\n",
    "     "
   ]
  },
  {
   "cell_type": "code",
   "execution_count": null,
   "id": "1f7a7408-de08-4ee3-9dc5-2827aad78a63",
   "metadata": {},
   "outputs": [],
   "source": [
    "# Write a Python program to remove the contents of a tag in a given html document.\n",
    "print(f\"Before the removal {soup.find('h1')}\") #find h1 before the content is removed\n",
    "\n",
    "h1_tag =  soup.clear.h1()\n",
    "if h1_tag:\n",
    "    print(f\"After the removal {soup.find('h1')}\")#find h1 after the content is removed\n",
    "else:\n",
    "    print(\"Tag contents have already been removed\")\n",
    "# the code above uses the .clear().tag() function to remove the contents of the h1 tag\n"
   ]
  },
  {
   "cell_type": "code",
   "execution_count": 5,
   "id": "fc586228-e00c-4eb7-97e5-3dfdbc3406b1",
   "metadata": {},
   "outputs": [
    {
     "name": "stdout",
     "output_type": "stream",
     "text": [
      "Before adding the tag <p>Download and install any authenticator app (e.g. <strong>Microsoft Authenticator, Google Authenticator, or Authy</strong>) on your phone.</p>\n",
      "After adding the tag <div><p>Download and install any authenticator app (e.g. <strong>Microsoft Authenticator, Google Authenticator, or Authy</strong>) on your phone.</p></div>\n"
     ]
    }
   ],
   "source": [
    "# Write a Python program to wrap an element in the specified tag and create the new wrapper.\n",
    "tag_p = soup.find('p')\n",
    "print(f\"Before adding the tag {tag_p}\")\n",
    "new_tag = soup.new_tag('div')\n",
    "wrap_tag = tag_p.wrap(new_tag)\n",
    "print(f\"After adding the tag {wrap_tag}\")\n",
    "#the code above shows "
   ]
  },
  {
   "cell_type": "code",
   "execution_count": 48,
   "id": "de1b1fcb-656e-4b31-8820-7a6311c6d221",
   "metadata": {
    "scrolled": true
   },
   "outputs": [
    {
     "name": "stdout",
     "output_type": "stream",
     "text": [
      "Before the removal: None\n",
      "No <title> tag found.\n",
      "\n"
     ]
    }
   ],
   "source": [
    "# Write a Python program to remove a tag from a given tree of html document and destroy it and its contents.\n",
    "tag_title = soup.find('h4')\n",
    "print(f\"Before the removal: {tag_title}\")\n",
    "\n",
    "if tag_title:\n",
    "    tag_title.decompose()  # completly destroys the tag and its contents\n",
    "  \n",
    "else:\n",
    "    print(\"No <title> tag found.\")\n",
    "# Print the soup after removal to confirm that the tag is removed\n",
    "\n"
   ]
  },
  {
   "cell_type": "code",
   "execution_count": 1,
   "id": "f072043d-7622-409d-b3c9-86f79fd2485a",
   "metadata": {},
   "outputs": [
    {
     "name": "stdout",
     "output_type": "stream",
     "text": [
      "Defaulting to user installation because normal site-packages is not writeable\n",
      "Looking in links: /usr/share/pip-wheels\n",
      "Requirement already satisfied: beautifulsoup4 in /opt/conda/envs/anaconda-panel-2023.05-py310/lib/python3.11/site-packages (4.12.2)\n",
      "Requirement already satisfied: soupsieve>1.2 in /opt/conda/envs/anaconda-panel-2023.05-py310/lib/python3.11/site-packages (from beautifulsoup4) (2.4)\n",
      "Note: you may need to restart the kernel to use updated packages.\n"
     ]
    }
   ],
   "source": [
    "pip install beautifulsoup4\n"
   ]
  },
  {
   "cell_type": "code",
   "execution_count": null,
   "id": "fb77e3d4-1335-4cad-bdc3-ab860e90db02",
   "metadata": {},
   "outputs": [],
   "source": []
  }
 ],
 "metadata": {
  "kernelspec": {
   "display_name": "anaconda-panel-2023.05-py310",
   "language": "python",
   "name": "conda-env-anaconda-panel-2023.05-py310-py"
  },
  "language_info": {
   "codemirror_mode": {
    "name": "ipython",
    "version": 3
   },
   "file_extension": ".py",
   "mimetype": "text/x-python",
   "name": "python",
   "nbconvert_exporter": "python",
   "pygments_lexer": "ipython3",
   "version": "3.11.5"
  }
 },
 "nbformat": 4,
 "nbformat_minor": 5
}
